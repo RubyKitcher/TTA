{
 "metadata": {
  "language_info": {
   "codemirror_mode": {
    "name": "ipython",
    "version": 3
   },
   "file_extension": ".py",
   "mimetype": "text/x-python",
   "name": "python",
   "nbconvert_exporter": "python",
   "pygments_lexer": "ipython3",
   "version": "3.9.5"
  },
  "orig_nbformat": 2,
  "kernelspec": {
   "name": "python395jvsc74a57bd071500cac4cdad37a1c2e0ef73cd01bef7b0fd16d3c45e6955d0452b305dbc7a4",
   "display_name": "Python 3.9.5 64-bit"
  },
  "metadata": {
   "interpreter": {
    "hash": "71500cac4cdad37a1c2e0ef73cd01bef7b0fd16d3c45e6955d0452b305dbc7a4"
   }
  }
 },
 "nbformat": 4,
 "nbformat_minor": 2,
 "cells": [
  {
   "cell_type": "code",
   "execution_count": 10,
   "metadata": {},
   "outputs": [
    {
     "output_type": "stream",
     "name": "stdout",
     "text": [
      "Hello, Anne guess a number between 1 and 10\n",
      "Try again\n"
     ]
    }
   ],
   "source": [
    "import random\n",
    "user_name = input(\"Hello, What is your name?\")\n",
    "number = random.randint(1,10)\n",
    "print (\"Hello, \"  + user_name + \" \"  \"guess a number between 1 and 10\")\n",
    "guess = int(input(\"take a guess\"))\n",
    "\n",
    "if guess == number:\n",
    "    print(\"You win!\")\n",
    "else:\n",
    "    print(\"Try again\")\n"
   ]
  },
  {
   "cell_type": "code",
   "execution_count": null,
   "metadata": {},
   "outputs": [],
   "source": []
  },
  {
   "cell_type": "code",
   "execution_count": 21,
   "metadata": {},
   "outputs": [
    {
     "output_type": "stream",
     "name": "stdout",
     "text": [
      "Hi Joy, When does a joke become a dad joke? When it becomes apparent!\n"
     ]
    }
   ],
   "source": [
    "user_name = input(\"Hi, What is your name?\")\n",
    "number = int(input(\"choose a number\"))\n",
    "if i in range(1,30):\n",
    "    print(\"Hi \" + user_name + \",\" \" \" + \"What do dentists call their x-rays? Tooth pics!\")\n",
    "elif i in range(31,70):\n",
    "    print(\"Hi \" + user_name + \",\" \" \" + \"Why do ducks have feathers? To cover their butt quacks!\") \n",
    "elif i in range(71,100):\n",
    "    print(\"Hi \" + user_name + \",\" \" \" + \"When does a joke become a dad joke? When it becomes apparent!\")\n",
    "else:\n",
    "    print(\"No joke\") \n"
   ]
  },
  {
   "cell_type": "code",
   "execution_count": null,
   "metadata": {},
   "outputs": [],
   "source": []
  },
  {
   "cell_type": "code",
   "execution_count": 35,
   "metadata": {},
   "outputs": [
    {
     "output_type": "stream",
     "name": "stdout",
     "text": [
      "Rubyyour favourite meal isprawnricecakewith a glass ofjuice\n"
     ]
    }
   ],
   "source": [
    "user_name = input(\"Hi, What is your name?\")\n",
    "starter = input(\"Hi \" + user_name + \",\" \" \" + \"Select your starter from the menu\")\n",
    "main_course = input(\"Select your main course from the menu\")\n",
    "dessert = input(\"Now select your desert\")\n",
    "drink = input(\"finally select a drink\")\n",
    "print(user_name + \"your favourite meal is\" + starter + main_course + dessert + \"with a glass of\" + drink)"
   ]
  },
  {
   "cell_type": "code",
   "execution_count": null,
   "metadata": {},
   "outputs": [],
   "source": []
  },
  {
   "cell_type": "code",
   "execution_count": 8,
   "metadata": {},
   "outputs": [
    {
     "output_type": "stream",
     "name": "stdout",
     "text": [
      "£ 2000\n£ 1800.0\n£ 1620.0\n£ 1458.0\n£ 1312.2\n£ 1180.98\n£ 1062.882\n"
     ]
    }
   ],
   "source": [
    "cost = 2000\n",
    "\n",
    "while cost > 1000:\n",
    "    print(\"£\", cost)\n",
    "    cost = cost * 0.9"
   ]
  },
  {
   "cell_type": "code",
   "execution_count": null,
   "metadata": {},
   "outputs": [],
   "source": []
  },
  {
   "cell_type": "code",
   "execution_count": 44,
   "metadata": {},
   "outputs": [],
   "source": [
    "user_name = input(\"Hi, What is your name?\")\n",
    "x = int(input(\"choose a number\"))\n",
    "y = int(input(\"choose a number\"))\n",
    "if a == float(x + y):\n",
    "    print(\"Hi \" + user_name + \" add\")\n",
    "elif a == float(x - y):\n",
    "    print(\"Hi \" + user_name + \" subtract\")\n",
    "elif a == float(x * y):\n",
    "    print(\"Hi \" + user_name + \" multiply\")\n",
    "elif a == float(x / y):\n",
    "    print(\"Hi \" + user_name + \" divide\")\n",
    "\n"
   ]
  },
  {
   "cell_type": "code",
   "execution_count": null,
   "metadata": {},
   "outputs": [],
   "source": []
  }
 ]
}